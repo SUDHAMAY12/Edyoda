{
  "nbformat": 4,
  "nbformat_minor": 0,
  "metadata": {
    "colab": {
      "provenance": [],
      "authorship_tag": "ABX9TyPgKrHKETeN/ZrU1ITFNkYw",
      "include_colab_link": true
    },
    "kernelspec": {
      "name": "python3",
      "display_name": "Python 3"
    },
    "language_info": {
      "name": "python"
    }
  },
  "cells": [
    {
      "cell_type": "markdown",
      "metadata": {
        "id": "view-in-github",
        "colab_type": "text"
      },
      "source": [
        "<a href=\"https://colab.research.google.com/github/SUDHAMAY12/Edyoda/blob/main/Assignment_1_(Hackerrank)_ipynb.ipynb\" target=\"_parent\"><img src=\"https://colab.research.google.com/assets/colab-badge.svg\" alt=\"Open In Colab\"/></a>"
      ]
    },
    {
      "cell_type": "code",
      "execution_count": null,
      "metadata": {
        "colab": {
          "base_uri": "https://localhost:8080/"
        },
        "id": "tht8zmhFlNix",
        "outputId": "724bc132-e02d-49d8-d1b1-df12dde0e20b"
      },
      "outputs": [
        {
          "output_type": "stream",
          "name": "stdout",
          "text": [
            "1\n",
            "sudha 65 57 59\n",
            "sudha\n",
            "60.33\n"
          ]
        }
      ],
      "source": [
        "######## Question-1 ######\n",
        "\n",
        "if __name__ == '__main__':\n",
        "  n = int(input())\n",
        "  student_marks = {}\n",
        "  for _ in range(n):\n",
        "    name, *line = input().split()\n",
        "    scores =list(map(float,line))\n",
        "    student_marks[name] = scores\n",
        "  query_name = input()\n",
        "print(\"%.02f\"%(sum(student_marks[query_name]) /3))"
      ]
    },
    {
      "cell_type": "code",
      "source": [
        "###### Question-2 ######\n",
        "def split_and_join(line):\n",
        "  return '-'.join(line.split(' '))\n",
        "if __name__ == '__main__':\n",
        "  line = input()\n",
        "  result = split_and_join(line)\n",
        "  print(result)"
      ],
      "metadata": {
        "colab": {
          "base_uri": "https://localhost:8080/"
        },
        "id": "uHm46fbolffA",
        "outputId": "e9d8229b-2f92-463e-bb80-267093f4b6a3"
      },
      "execution_count": null,
      "outputs": [
        {
          "output_type": "stream",
          "name": "stdout",
          "text": [
            "my name is mama\n",
            "my-name-is-mama\n"
          ]
        }
      ]
    },
    {
      "cell_type": "code",
      "source": [
        "########## Question-3 ##########\n",
        "n = int(input())\n",
        "a = set(map(int,input().split()))\n",
        "m = int(input())\n",
        "b = set(map(int,input().split()))\n",
        "x =a.intersection(b)\n",
        "print(len(x))"
      ],
      "metadata": {
        "colab": {
          "base_uri": "https://localhost:8080/"
        },
        "id": "mdYQ0WC-lfmC",
        "outputId": "1830f1cc-5be0-435d-98c3-fecef470aafc"
      },
      "execution_count": null,
      "outputs": [
        {
          "output_type": "stream",
          "name": "stdout",
          "text": [
            "7\n",
            "45 49 78 65 23 12 32\n",
            "3\n",
            "45 62 67 99 33 52 56\n",
            "1\n"
          ]
        }
      ]
    },
    {
      "cell_type": "code",
      "source": [
        "######### Question-4 #######\n",
        "if __name__ == '__main__':\n",
        "  n = int(input())\n",
        "  arr = map(int, input().split())\n",
        "  my_set = set(arr)\n",
        "my_list = list (my_set)\n",
        "my_list.sort()\n",
        "print(my_list[-2])"
      ],
      "metadata": {
        "colab": {
          "base_uri": "https://localhost:8080/"
        },
        "id": "P-QBmiC5lfpe",
        "outputId": "525e711e-fe46-49fb-bb1f-e903d641486b"
      },
      "execution_count": null,
      "outputs": [
        {
          "output_type": "stream",
          "name": "stdout",
          "text": [
            "5\n",
            "45 65 89 45 56\n",
            "65\n"
          ]
        }
      ]
    },
    {
      "cell_type": "code",
      "source": [
        "########### Question-5 ##########\n",
        "def swap_case(s):\n",
        "    result = []\n",
        "    for char in s:\n",
        "        if char.isupper():\n",
        "            result.append(char.lower())\n",
        "        else:\n",
        "            result.append(char.upper())\n",
        "    return \"\".join(result)\n",
        "\n",
        "if __name__ == '__main__':\n",
        "  s= input()\n",
        "  result= swap_case(s)\n",
        "  print(result)"
      ],
      "metadata": {
        "colab": {
          "base_uri": "https://localhost:8080/"
        },
        "id": "RRy9FTe9lfsi",
        "outputId": "29a3c8c1-dc6f-4fa4-f3d7-c421c517bdbc"
      },
      "execution_count": null,
      "outputs": [
        {
          "output_type": "stream",
          "name": "stdout",
          "text": [
            "Sudha Mama\n",
            "sUDHA mAMA\n"
          ]
        }
      ]
    },
    {
      "cell_type": "code",
      "source": [
        "########### Question-6 ##########\n",
        "if __name__ == '__main__':\n",
        "    a = int(input())\n",
        "    b = int(input())\n",
        "    \n",
        "    print(a+b)\n",
        "    print(a-b)\n",
        "    print(a*b)"
      ],
      "metadata": {
        "colab": {
          "base_uri": "https://localhost:8080/"
        },
        "id": "4NKHir1qlfu5",
        "outputId": "f7e6aff8-380f-467b-d906-f8690182cdeb"
      },
      "execution_count": null,
      "outputs": [
        {
          "output_type": "stream",
          "name": "stdout",
          "text": [
            "12\n",
            "7\n",
            "19\n",
            "5\n",
            "84\n"
          ]
        }
      ]
    },
    {
      "cell_type": "code",
      "source": [
        "########## Question-7 ##########\n",
        "if __name__ == '__main__':\n",
        "    a = int(input())\n",
        "    b = int(input())\n",
        "    print(a/b)\n",
        "    print(a//b)"
      ],
      "metadata": {
        "colab": {
          "base_uri": "https://localhost:8080/"
        },
        "id": "oNBEk6KPlfxl",
        "outputId": "dfcfbf43-e402-4a29-ff95-f41313e63d6f"
      },
      "execution_count": null,
      "outputs": [
        {
          "output_type": "stream",
          "name": "stdout",
          "text": [
            "9\n",
            "9\n",
            "1.0\n",
            "1\n"
          ]
        }
      ]
    },
    {
      "cell_type": "code",
      "source": [
        "########## Question-8 ##########\n",
        "if __name__ == '__main__':\n",
        "    n = int(input().strip())\n",
        "if 1 <= n <= 100:\n",
        "    if n % 2 == 0 and (n in range(2, 6) or n > 20):\n",
        "        print('Not Weird')\n",
        "    else:\n",
        "        print('Weird')"
      ],
      "metadata": {
        "colab": {
          "base_uri": "https://localhost:8080/"
        },
        "id": "9AoanVdllf0x",
        "outputId": "97f47a2c-d9c0-44cc-d7a7-e57409c6c598"
      },
      "execution_count": null,
      "outputs": [
        {
          "output_type": "stream",
          "name": "stdout",
          "text": [
            "43\n",
            "Weird\n"
          ]
        }
      ]
    },
    {
      "cell_type": "code",
      "source": [
        "########### Question-9 ##########\n",
        "Result =[]\n",
        "scorelist = []\n",
        "if __name__ == '__main__':\n",
        "    for _ in range(int(input())):\n",
        "        name = input()\n",
        "        score = float(input())\n",
        "        Result+=[[name,score]]\n",
        "        scorelist+=[score]\n",
        "    b=sorted(list(set(scorelist)))[1] \n",
        "    for a,c in sorted(Result):\n",
        "        if c==b:\n",
        "            print(a)"
      ],
      "metadata": {
        "colab": {
          "base_uri": "https://localhost:8080/"
        },
        "id": "w1JlIqRFlf54",
        "outputId": "61696d38-c8b1-4747-8c15-496cd37b792f"
      },
      "execution_count": null,
      "outputs": [
        {
          "output_type": "stream",
          "name": "stdout",
          "text": [
            "2\n",
            "sudha\n",
            "885\n",
            "mama\n",
            "965\n",
            "mama\n"
          ]
        }
      ]
    },
    {
      "cell_type": "code",
      "source": [
        "########### Question-10 ##########\n",
        "\n",
        "if __name__ == '__main__':\n",
        "    n = int(input())\n",
        "    \n",
        "    for i in range(n):\n",
        "        print(i**2)"
      ],
      "metadata": {
        "colab": {
          "base_uri": "https://localhost:8080/"
        },
        "id": "BCKPErzqlf_H",
        "outputId": "7c6722ef-dfe6-434b-ac41-a72b1eaa9625"
      },
      "execution_count": null,
      "outputs": [
        {
          "output_type": "stream",
          "name": "stdout",
          "text": [
            "3\n",
            "0\n",
            "1\n",
            "4\n"
          ]
        }
      ]
    },
    {
      "cell_type": "code",
      "source": [
        "########### Question-11 ##########\n",
        "def is_leap(year):\n",
        "    leap = False\n",
        "    # Write your logic here\n",
        "    if year > 1900:\n",
        "        if year % 4 == 0:\n",
        "            if year % 100 == 0:\n",
        "                if year % 400 == 0:\n",
        "                    leap = True;\n",
        "                else:\n",
        "                  leap= False\n",
        "            else:\n",
        "                leap= True\n",
        "        else:\n",
        "          leap= False\n",
        "    return leap\n",
        "\n",
        "year = int(input())\n",
        "print(is_leap(year))"
      ],
      "metadata": {
        "colab": {
          "base_uri": "https://localhost:8080/"
        },
        "id": "E3I1EG6X2XbT",
        "outputId": "6503e304-1061-436e-8504-0800d16b2ec8"
      },
      "execution_count": null,
      "outputs": [
        {
          "output_type": "stream",
          "name": "stdout",
          "text": [
            "2012\n",
            "True\n"
          ]
        }
      ]
    },
    {
      "cell_type": "code",
      "source": [
        "########### Question-12 ##########\n",
        "def count_substring(string, sub_string):\n",
        "    occurs = 0\n",
        "    x = 0\n",
        "    for i in range(len(string)):\n",
        "        x = string.find(sub_string, x, len(string))\n",
        "        if x >= 0:\n",
        "            occurs += 1\n",
        "            x += 1\n",
        "    return occurs\n",
        "if __name__ == '__main__':\n",
        "    string = input().strip()\n",
        "    sub_string = input().strip()\n",
        "    \n",
        "    count = count_substring(string, sub_string)\n",
        "    print(count)\n"
      ],
      "metadata": {
        "colab": {
          "base_uri": "https://localhost:8080/"
        },
        "id": "Fz5k_N8r222D",
        "outputId": "1481785d-ffc4-4b5d-f44a-296d033fdb04"
      },
      "execution_count": null,
      "outputs": [
        {
          "output_type": "stream",
          "name": "stdout",
          "text": [
            "we woo woff weew wwoow ffoo\n",
            "weee dooo wofff weeew wwooo ffoo\n",
            "0\n"
          ]
        }
      ]
    },
    {
      "cell_type": "code",
      "source": [
        "########### Question-13 ##########\n",
        "if __name__ == '__main__':\n",
        "    N = int(input())\n",
        "    lst = []\n",
        "    for _ in range(N):\n",
        "    \n",
        "        instruction = input().split()\n",
        "        if instruction[0] == 'insert':\n",
        "            lst.insert(int(instruction[1]), int(instruction[2]))\n",
        "                \n",
        "        elif instruction[0] == 'print':\n",
        "            print(lst)\n",
        "         \n",
        "        elif instruction[0] == 'remove':\n",
        "            # print(instruction)\n",
        "            # print(lst)\n",
        "            lst.remove(int(instruction[1]))\n",
        "        \n",
        "        elif instruction[0] == 'append':\n",
        "            lst.append(int(instruction[1]))\n",
        "            \n",
        "        elif instruction[0] == 'sort':\n",
        "            lst.sort()\n",
        "            \n",
        "        elif instruction[0] == 'pop':\n",
        "            lst.pop()\n",
        "            \n",
        "        elif instruction[0] == 'reverse':\n",
        "            lst.reverse()\n",
        "        print(lst)"
      ],
      "metadata": {
        "colab": {
          "base_uri": "https://localhost:8080/"
        },
        "id": "XryyCeqt3Wvx",
        "outputId": "40ace12f-194e-4d20-a959-1e4fdac94a60"
      },
      "execution_count": null,
      "outputs": [
        {
          "output_type": "stream",
          "name": "stdout",
          "text": [
            "2\n",
            "45 47 46\n",
            "[]\n",
            "457421\n",
            "[]\n"
          ]
        }
      ]
    },
    {
      "cell_type": "code",
      "source": [],
      "metadata": {
        "id": "M2DGuvQe3pVh"
      },
      "execution_count": null,
      "outputs": []
    }
  ]
}