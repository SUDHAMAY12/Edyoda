{
  "nbformat": 4,
  "nbformat_minor": 0,
  "metadata": {
    "colab": {
      "provenance": [],
      "authorship_tag": "ABX9TyOmOv7f92+p8Bn4jQzFzSkw",
      "include_colab_link": true
    },
    "kernelspec": {
      "name": "python3",
      "display_name": "Python 3"
    },
    "language_info": {
      "name": "python"
    }
  },
  "cells": [
    {
      "cell_type": "markdown",
      "metadata": {
        "id": "view-in-github",
        "colab_type": "text"
      },
      "source": [
        "<a href=\"https://colab.research.google.com/github/SUDHAMAY12/Edyoda/blob/main/DSA_assignment_1_Linear_Data_Structures.ipynb\" target=\"_parent\"><img src=\"https://colab.research.google.com/assets/colab-badge.svg\" alt=\"Open In Colab\"/></a>"
      ]
    },
    {
      "cell_type": "code",
      "execution_count": null,
      "metadata": {
        "colab": {
          "base_uri": "https://localhost:8080/"
        },
        "id": "h3d_r-8E0E4j",
        "outputId": "e73ddc16-50cc-4773-9ad1-3c7e82410a6f"
      },
      "outputs": [
        {
          "output_type": "stream",
          "name": "stdout",
          "text": [
            "Enter the sum value: 7\n",
            "Entered sum is 7 & pair of 1 + 6 is also 7\n",
            "Entered sum is 7 & pair of 2 + 5 is also 7\n",
            "Entered sum is 7 & pair of 3 + 4 is also 7\n"
          ]
        }
      ],
      "source": [
        "## Q1. Write a program to find all pairs of an integer array whose sum is equal to a given number?\n",
        "\n",
        "array = [1,2,3,4,5,6,7,8,9,10]\n",
        "sum = int(input(\"Enter the sum value: \"))\n",
        "\n",
        "for i in range(len(array)):\n",
        "  for j in range(i+1,len(array)):\n",
        "    if array[i] + array[j] == sum:\n",
        "      pair = array[i] + array[j]\n",
        "      print(f\"Entered sum is {sum} & pair of {array[i]} + {array[j]} is also {pair}\")\n"
      ]
    },
    {
      "cell_type": "code",
      "source": [
        "\n",
        "# Q1. Write a program to find all pairs of an integer array whose sum is equal to a given number?\n",
        "\n",
        "def pairOfSum(arr,sum):\n",
        "    result = []\n",
        "\n",
        "    while arr:  \n",
        "        last = arr.pop()\n",
        "        diff = sum - last\n",
        "\n",
        "        if diff in arr:\n",
        "            result.append((diff,last))\n",
        "    return result\n",
        "\n",
        "array = [1,2,3,4,5,6,7,10,8,9]\n",
        "sum = 8\n",
        "pairOfSum(array,sum)"
      ],
      "metadata": {
        "colab": {
          "base_uri": "https://localhost:8080/"
        },
        "id": "8lpZdc6608ly",
        "outputId": "793288a2-9f1f-4268-8e07-bfdbe31aabfe"
      },
      "execution_count": null,
      "outputs": [
        {
          "output_type": "execute_result",
          "data": {
            "text/plain": [
              "[(1, 7), (2, 6), (3, 5)]"
            ]
          },
          "metadata": {},
          "execution_count": 6
        }
      ]
    },
    {
      "cell_type": "code",
      "source": [
        "\n",
        "# Q2. Write a program to reverse an array in place? In place means you cannot create a new array.\n",
        "# You have to update the original array.\n",
        "\n",
        "array = [1,2,3,4,7,9,5,6]\n",
        "print(f\"Array before: {array}\")\n",
        "\n",
        "def arrayInPlace(arr):\n",
        "  for i in range(len(arr)):\n",
        "    for j in range(i+1, len(arr)):\n",
        "      arr[i],arr[j] = arr[j],arr[i]\n",
        "  return arr\n",
        "\n",
        "arrayAfter = arrayInPlace(array)\n",
        "print(f\"Array after: {arrayAfter}\")\n",
        "\n"
      ],
      "metadata": {
        "colab": {
          "base_uri": "https://localhost:8080/"
        },
        "id": "52kdyUS108oa",
        "outputId": "1dd2b517-d54b-4215-990f-f3d9f7876024"
      },
      "execution_count": null,
      "outputs": [
        {
          "output_type": "stream",
          "name": "stdout",
          "text": [
            "Array before: [1, 2, 3, 4, 7, 9, 5, 6]\n",
            "Array after: [6, 5, 9, 7, 4, 3, 2, 1]\n"
          ]
        }
      ]
    },
    {
      "cell_type": "code",
      "source": [
        "\n",
        "# Q2. Write a program to reverse an array in place? In place means you cannot create a new array.\n",
        "# You have to update the original array.\n",
        "\n",
        "\n",
        "array = [1,2,3,4,7,9,5]\n",
        "print(f\"Array before: {array}\")\n",
        "\n",
        "start = 0\n",
        "end = len(array) - 1\n",
        "\n",
        "while start < end:\n",
        "  \n",
        "    array[start], array[end] = array[end],array[start]\n",
        "    start += 1\n",
        "    end -= 1\n",
        "\n",
        "print(f\"Array after: {array}\")"
      ],
      "metadata": {
        "id": "ooJCXd2Q08qZ",
        "colab": {
          "base_uri": "https://localhost:8080/"
        },
        "outputId": "9ea55653-5aca-41bc-cb90-1effb1b518a9"
      },
      "execution_count": null,
      "outputs": [
        {
          "output_type": "stream",
          "name": "stdout",
          "text": [
            "Array before: [1, 2, 3, 4, 7, 9, 5]\n",
            "Array after: [5, 9, 7, 4, 3, 2, 1]\n"
          ]
        }
      ]
    },
    {
      "cell_type": "code",
      "source": [
        "\n",
        "# Q3. Write a program to check if two strings are a rotation of each other?\n",
        "\n",
        "def is_rotation(string1, string2):\n",
        "    if len(string1) != len(string2):\n",
        "        return False\n",
        "    return string1 in (string2 + string2)\n",
        "\n",
        "print(is_rotation(\"hello\", \"llohe\"))  # True\n",
        "print(is_rotation(\"hello\", \"lloeh\"))  # False\n",
        "print(is_rotation(\"hello\", \"hellohello\"))  # True"
      ],
      "metadata": {
        "id": "N-eQZgmJ08tQ",
        "colab": {
          "base_uri": "https://localhost:8080/"
        },
        "outputId": "58fb2aa8-f64d-4625-a090-c839c9c0ee7a"
      },
      "execution_count": null,
      "outputs": [
        {
          "output_type": "stream",
          "name": "stdout",
          "text": [
            "True\n",
            "False\n",
            "False\n"
          ]
        }
      ]
    },
    {
      "cell_type": "code",
      "source": [
        "\n",
        "# Q3. Write a program to check if two strings are a rotation of each other?\n",
        "\n",
        "s1 = \"abcde\"\n",
        "s2 = \"deabc\"\n",
        "\n",
        "if len(s1) == len(s2):\n",
        "    if s2 in (s1 + s1):\n",
        "      print(f\"{s2} is rotation of {s1}\")\n",
        "else:\n",
        "    print(f\"{s2} is not a rotation of {s1}\")"
      ],
      "metadata": {
        "id": "HL_TR2pK08vh",
        "colab": {
          "base_uri": "https://localhost:8080/"
        },
        "outputId": "0d6252ea-0578-4107-d92c-0e78b9a69798"
      },
      "execution_count": null,
      "outputs": [
        {
          "output_type": "stream",
          "name": "stdout",
          "text": [
            "deabc is rotation of abcde\n"
          ]
        }
      ]
    },
    {
      "cell_type": "code",
      "source": [
        "\n",
        "# Q4. Write a program to print the first non-repeated character from a string?\n",
        "\n",
        "strg = \"abcabcabcdabcdert\"\n",
        "\n",
        "frequency = {}\n",
        "for i in strg:\n",
        "    frequency[i] = strg.count(i)\n",
        "\n",
        "for j in strg:\n",
        "    if frequency[j] == 1:\n",
        "        print(f\"{j} is the non repeated character of input '{strg}'\")\n",
        "        break\n",
        "\n",
        "# print(frequency)"
      ],
      "metadata": {
        "id": "sEn3tSoz08xz",
        "colab": {
          "base_uri": "https://localhost:8080/"
        },
        "outputId": "3b11672c-f892-44c4-cf40-51de51865bee"
      },
      "execution_count": null,
      "outputs": [
        {
          "output_type": "stream",
          "name": "stdout",
          "text": [
            "e is the non repeated character of input 'abcabcabcdabcdert'\n"
          ]
        }
      ]
    },
    {
      "cell_type": "code",
      "source": [
        "# Q4. Write a program to print the first non-repeated character from a string?\n",
        "\n",
        "def firstNonRepeated(string):\n",
        "    frequency = {}\n",
        "    for char in string:\n",
        "        if char in frequency:\n",
        "            frequency[char] += 1\n",
        "        else:\n",
        "            frequency[char] = 1\n",
        "    for char in string:\n",
        "        if frequency[char] == 1:\n",
        "            return char\n",
        "    return None\n",
        "\n",
        "print(firstNonRepeated(\"hhello\"))  # \"e\"\n",
        "print(firstNonRepeated(\"kkabcdefghijklmnopqrstuvwxyz\"))  # \"a\"\n",
        "print(firstNonRepeated(\"abcdefghiusadhghsdfhiyuqwrwrtyulvngjklmnopqrstuvwxyzabcdefghijklmnopqrstuvwxyz\"))  # None\n",
        "     "
      ],
      "metadata": {
        "id": "R9FzY2t9080e",
        "colab": {
          "base_uri": "https://localhost:8080/"
        },
        "outputId": "1926378c-da55-4b3c-a4eb-c97f64838be1"
      },
      "execution_count": null,
      "outputs": [
        {
          "output_type": "stream",
          "name": "stdout",
          "text": [
            "e\n",
            "a\n",
            "None\n"
          ]
        }
      ]
    },
    {
      "cell_type": "code",
      "source": [
        "# Q5. Read about the Tower of Hanoi algorithm. Write a program to implement it.\n",
        "\n",
        "# This can be done with resursive approach\n",
        "\n",
        "def towerOfHanoi(numbers,start,helper,end):\n",
        "\t\tif numbers == 1:\n",
        "\t\t\t\tprint(f\"Move disk {numbers} from {start} to {end}\")\n",
        "\t\t\t\treturn\n",
        "\t\ttowerOfHanoi(numbers - 1, start, end, helper)\n",
        "\t\tprint(f\"Move disk {numbers} from {start} to {end}\")\n",
        "\t\ttowerOfHanoi(numbers - 1, helper, start, end)\n",
        "\t\n",
        "disk = 3\n",
        "towerOfHanoi(disk, \"A\",\"B\",\"C\")"
      ],
      "metadata": {
        "id": "fNAAGr6b083V",
        "colab": {
          "base_uri": "https://localhost:8080/"
        },
        "outputId": "d64dc304-5784-4329-86af-faeba797c5fb"
      },
      "execution_count": null,
      "outputs": [
        {
          "output_type": "stream",
          "name": "stdout",
          "text": [
            "Move disk 1 from A to C\n",
            "Move disk 2 from A to B\n",
            "Move disk 1 from C to B\n",
            "Move disk 3 from A to C\n",
            "Move disk 1 from B to A\n",
            "Move disk 2 from B to C\n",
            "Move disk 1 from A to C\n"
          ]
        }
      ]
    },
    {
      "cell_type": "code",
      "source": [
        "\n",
        "# Q6. Read about infix, prefix, and postfix expressions.\n",
        "# Write a program to convert postfix to prefix expression.\n",
        "\n",
        "expression = \"ABC/-AK/L-*\"\n",
        "operators = [\"-\", \"+\", \"/\", \"*\"]\n",
        "stack = []\n",
        "\n",
        "for i in expression:\n",
        "    if i in operators:\n",
        "        operand1 = stack.pop()\n",
        "        operand2 = stack.pop()\n",
        "        result = i + operand2 + operand1\n",
        "        stack.append(result)\n",
        "    else:\n",
        "        stack.append(i)\n",
        "\n",
        "print(f\"Prefix expression: {expression},\\nPostfix expression: {stack[0]}\") "
      ],
      "metadata": {
        "colab": {
          "base_uri": "https://localhost:8080/"
        },
        "id": "Pcm2MvFnoohc",
        "outputId": "f1a9f939-7dc9-4fbc-9da6-64b1a95332cc"
      },
      "execution_count": null,
      "outputs": [
        {
          "output_type": "stream",
          "name": "stdout",
          "text": [
            "Prefix expression: ABC/-AK/L-*,\n",
            "Postfix expression: *-A/BC-/AKL\n"
          ]
        }
      ]
    },
    {
      "cell_type": "code",
      "source": [
        "# Q7. Write a program to convert prefix expression to infix expression.\n",
        "\n",
        "def prefixToInfix(expression):\n",
        "    stack = []\n",
        "    # we need to reverse the expression to add operands first in the stack before operators\n",
        "    exp = expression[::-1]\n",
        "\n",
        "    for char in exp:\n",
        "        if char in [\"+\", \"-\", \"*\", \"/\"]:\n",
        "            operand1 = stack.pop()\n",
        "            operand2 = stack.pop()\n",
        "            result = operand1 + char + operand2\n",
        "            stack.append(result)\n",
        "            \n",
        "        else:\n",
        "            stack.append(char)\n",
        "\n",
        "    return result\n",
        "\n",
        "prefixToInfix(\"+-*AB/CDE\")"
      ],
      "metadata": {
        "colab": {
          "base_uri": "https://localhost:8080/",
          "height": 36
        },
        "id": "uMZTxdO7ookk",
        "outputId": "af4bed65-add3-48b8-ae80-3b02b42e40ed"
      },
      "execution_count": null,
      "outputs": [
        {
          "output_type": "execute_result",
          "data": {
            "text/plain": [
              "'A*B-C/D+E'"
            ],
            "application/vnd.google.colaboratory.intrinsic+json": {
              "type": "string"
            }
          },
          "metadata": {},
          "execution_count": 9
        }
      ]
    },
    {
      "cell_type": "code",
      "source": [
        "# Q8. Write a program to check if all the brackets are closed in a given code snippet.\n",
        "\n",
        "def checkBrackets(snippet):\n",
        "\n",
        "    stack = []\n",
        "    closingBracketsData = {'{': '}', '[': ']', '(': ')'}\n",
        "\n",
        "    for char in snippet:\n",
        "      \n",
        "        if char in closingBracketsData:\n",
        "            stack.append(char)  \n",
        "\n",
        "        elif char in closingBracketsData.values():\n",
        "            if not stack:\n",
        "                return False\n",
        "            elif closingBracketsData[stack[-1]] != char:\n",
        "                return False\n",
        "            else:\n",
        "                stack.pop()\n",
        "    \n",
        "    return not stack\n",
        "\n",
        "\n",
        "print(checkBrackets(\"{([()]}\")) # False\n",
        "print(checkBrackets(\"{[(])}\")) # False\n",
        "print(checkBrackets(\"{[{[{[{{[[(())]]}}]}]}]}\")) # True\n",
        "\n",
        "     "
      ],
      "metadata": {
        "colab": {
          "base_uri": "https://localhost:8080/"
        },
        "id": "HuTaJ_ZhpOfF",
        "outputId": "1ae1effd-dace-4363-8b89-8f69df453616"
      },
      "execution_count": null,
      "outputs": [
        {
          "output_type": "stream",
          "name": "stdout",
          "text": [
            "False\n",
            "False\n",
            "True\n"
          ]
        }
      ]
    },
    {
      "cell_type": "code",
      "source": [
        "# creating a stack class that we gonna use for problem 9 and 10\n",
        "\n",
        "class Stack:\n",
        "    def __init__(self):\n",
        "        self.data = []\n",
        "\n",
        "    def push(self,element):\n",
        "        return self.data.append(element)\n",
        "\n",
        "    def pop(self):\n",
        "        if len(self.data) > 0:\n",
        "            return self.data.pop()\n",
        "        else:\n",
        "            print(\"Stack is empty\")\n",
        "    \n",
        "    def isEmpty(self):\n",
        "        return self.data == []\n",
        "\n",
        "    def show(self):\n",
        "        for val in self.data:\n",
        "            print(val, end = \" \")\n",
        "     "
      ],
      "metadata": {
        "id": "C8LQE20p7r6P"
      },
      "execution_count": 1,
      "outputs": []
    },
    {
      "cell_type": "code",
      "source": [
        "# Q9. Write a program to reverse a stack.\n",
        "\n",
        "def reverse_stack(stack):\n",
        "  \n",
        "    tempStack = Stack()\n",
        "    while not stack.isEmpty():\n",
        "        tempStack.push(stack.pop())\n",
        "\n",
        "    return tempStack\n",
        "\n",
        "stack = Stack()\n",
        "stack.push(10)\n",
        "stack.push(30)\n",
        "stack.push(60)\n",
        "stack.push(90)\n",
        "\n",
        "print(stack.data) # should print [10, 30, 60, 90]\n",
        "\n",
        "reversed_stack = reverse_stack(stack)\n",
        "\n",
        "print(reversed_stack.data) # should print [90, 60, 30, 10]\n"
      ],
      "metadata": {
        "colab": {
          "base_uri": "https://localhost:8080/"
        },
        "id": "m7-qok1D78tx",
        "outputId": "0856fcc5-f921-4e6b-92f8-56fc6a638d86"
      },
      "execution_count": 2,
      "outputs": [
        {
          "output_type": "stream",
          "name": "stdout",
          "text": [
            "[10, 30, 60, 90]\n",
            "[90, 60, 30, 10]\n"
          ]
        }
      ]
    },
    {
      "cell_type": "code",
      "source": [
        "\n",
        "# Q9. Write a program to reverse a stack.\n",
        "\n",
        "def bottomInsert(stck, value):\n",
        "   \n",
        "    if stck.isEmpty():\n",
        "        stck.push(value)\n",
        "    else:\n",
        "        popped = stck.pop()\n",
        "        bottomInsert(stck, value)\n",
        "        stck.push(popped)\n",
        " \n",
        "def reverse(stck):\n",
        "    if stck.isEmpty():\n",
        "        pass\n",
        "    else:\n",
        "        popped = stck.pop()\n",
        "        reverse(stck)\n",
        "        bottomInsert(stck, popped)\n",
        "\n",
        "stk = Stack() # creating an objection using stack class created above\n",
        " \n",
        "stk.push(1)\n",
        "stk.push(2)\n",
        "stk.push(3)\n",
        "stk.push(4)\n",
        "stk.push(5)\n",
        "\n",
        "print(\"Stack before reverse: \")\n",
        "stk.show()\n",
        "print(\"\\n\")\n",
        "\n",
        "reverse(stk)\n",
        "print(\"Stack after reverse: \")\n",
        "stk.show()"
      ],
      "metadata": {
        "colab": {
          "base_uri": "https://localhost:8080/"
        },
        "id": "jLfsuyDD8DbT",
        "outputId": "044af684-d602-4328-c6c3-846bd335575d"
      },
      "execution_count": 3,
      "outputs": [
        {
          "output_type": "stream",
          "name": "stdout",
          "text": [
            "Stack before reverse: \n",
            "1 2 3 4 5 \n",
            "\n",
            "Stack after reverse: \n",
            "5 4 3 2 1 "
          ]
        }
      ]
    },
    {
      "cell_type": "code",
      "source": [
        "\n",
        "# Q10. Write a program to find the smallest number using a stack.\n",
        "\n",
        "def smallestStackVal(stack):\n",
        "\n",
        "    popped_element = stack.pop()\n",
        "    for val in stack:\n",
        "        if val < popped_element:\n",
        "            popped_element = val\n",
        "\n",
        "    return popped_element\n",
        "\n",
        "stack = [1,5,-988,9,-19,-3,9,7,6,7,-222]\n",
        "smallestStackVal(stack)\n",
        "     "
      ],
      "metadata": {
        "colab": {
          "base_uri": "https://localhost:8080/"
        },
        "id": "BUZITztcr81S",
        "outputId": "20960b16-ae87-4211-e7e8-89930d601676"
      },
      "execution_count": null,
      "outputs": [
        {
          "output_type": "execute_result",
          "data": {
            "text/plain": [
              "-988"
            ]
          },
          "metadata": {},
          "execution_count": 16
        }
      ]
    },
    {
      "cell_type": "code",
      "source": [
        "# Q10. Write a program to find the smallest number using a stack.\n",
        "\n",
        "def smallest(numbers):\n",
        "    stack = Stack() # creating an objection using stack class created above\n",
        "\n",
        "    for num in numbers:\n",
        "        stack.push(num)\n",
        "\n",
        "    smallest_val = stack.pop()\n",
        "\n",
        "    while not stack.isEmpty():\n",
        "        val = stack.pop()\n",
        "        if val < smallest_val:\n",
        "            smallest_val = val\n",
        "\n",
        "    return f\"The smallest number from the stack is {smallest_val}\"\n",
        "\n",
        "\n",
        "numbers = [1,9,-9,7,3,-3,9]\n",
        "print(smallest(numbers))\n",
        "\n",
        "num = (1,9,7,3,6,-3,90,-94)\n",
        "print(smallest(num))\n",
        "     "
      ],
      "metadata": {
        "colab": {
          "base_uri": "https://localhost:8080/"
        },
        "id": "p79STVSh8IyF",
        "outputId": "4197b65a-654e-40df-a2bf-52185666fe33"
      },
      "execution_count": 4,
      "outputs": [
        {
          "output_type": "stream",
          "name": "stdout",
          "text": [
            "The smallest number from the stack is -9\n",
            "The smallest number from the stack is -94\n"
          ]
        }
      ]
    }
  ]
}